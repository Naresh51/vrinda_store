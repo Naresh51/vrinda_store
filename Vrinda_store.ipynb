{
 "cells": [
  {
   "cell_type": "code",
   "execution_count": 1,
   "id": "29a42a24",
   "metadata": {},
   "outputs": [],
   "source": [
    "import numpy as np\n",
    "import pandas as pd\n",
    "import matplotlib.pyplot as plt                             # data visulizing \n",
    "import seaborn as sns \n",
    "import warnings\n",
    "import os "
   ]
  },
  {
   "cell_type": "code",
   "execution_count": 5,
   "id": "521884e4",
   "metadata": {},
   "outputs": [],
   "source": [
    "df = pd.read_excel(r'C:\\Users\\hp\\Downloads\\Vrinda Store Data Analysis.xlsx')  # import data and use \"r\" to avoid encoding error ,use unicode escape"
   ]
  },
  {
   "cell_type": "code",
   "execution_count": null,
   "id": "db15dda0",
   "metadata": {},
   "outputs": [],
   "source": [
    "df.shape"
   ]
  },
  {
   "cell_type": "code",
   "execution_count": null,
   "id": "7780f657",
   "metadata": {},
   "outputs": [],
   "source": [
    "df.head()"
   ]
  },
  {
   "cell_type": "code",
   "execution_count": null,
   "id": "e2f78d63",
   "metadata": {},
   "outputs": [],
   "source": [
    "df.info()"
   ]
  },
  {
   "cell_type": "code",
   "execution_count": null,
   "id": "d5f7d934",
   "metadata": {},
   "outputs": [],
   "source": [
    "df.columns"
   ]
  },
  {
   "cell_type": "code",
   "execution_count": null,
   "id": "af1a196c",
   "metadata": {},
   "outputs": [],
   "source": [
    "df.isnull()"
   ]
  },
  {
   "cell_type": "code",
   "execution_count": null,
   "id": "39e4e177",
   "metadata": {},
   "outputs": [],
   "source": [
    "df.isnull().sum()"
   ]
  },
  {
   "cell_type": "code",
   "execution_count": null,
   "id": "37d8308c",
   "metadata": {},
   "outputs": [],
   "source": [
    "df.columns"
   ]
  },
  {
   "cell_type": "code",
   "execution_count": null,
   "id": "2d03f042",
   "metadata": {},
   "outputs": [],
   "source": [
    "df['Order ID'].value_counts()"
   ]
  },
  {
   "cell_type": "code",
   "execution_count": null,
   "id": "07f15824",
   "metadata": {},
   "outputs": [],
   "source": [
    "df['Gender'].value_counts()"
   ]
  },
  {
   "cell_type": "code",
   "execution_count": 7,
   "id": "063870c1",
   "metadata": {},
   "outputs": [],
   "source": [
    "df.replace(to_replace='men',value='Men', inplace=True)"
   ]
  },
  {
   "cell_type": "code",
   "execution_count": null,
   "id": "a238c855",
   "metadata": {},
   "outputs": [],
   "source": [
    "df['Gender'].value_counts()"
   ]
  },
  {
   "cell_type": "code",
   "execution_count": null,
   "id": "6d658219",
   "metadata": {},
   "outputs": [],
   "source": [
    "df['Age group '].value_counts()"
   ]
  },
  {
   "cell_type": "code",
   "execution_count": null,
   "id": "95b8300d",
   "metadata": {},
   "outputs": [],
   "source": [
    "df['Date']"
   ]
  },
  {
   "cell_type": "code",
   "execution_count": 8,
   "id": "9749933b",
   "metadata": {},
   "outputs": [],
   "source": [
    "df['month_of_date']=df['Date'].dt.month"
   ]
  },
  {
   "cell_type": "code",
   "execution_count": 9,
   "id": "8660debd",
   "metadata": {},
   "outputs": [],
   "source": [
    "df['year']=df['Date'].dt.year"
   ]
  },
  {
   "cell_type": "code",
   "execution_count": 10,
   "id": "aaf94780",
   "metadata": {},
   "outputs": [
    {
     "data": {
      "text/html": [
       "<div>\n",
       "<style scoped>\n",
       "    .dataframe tbody tr th:only-of-type {\n",
       "        vertical-align: middle;\n",
       "    }\n",
       "\n",
       "    .dataframe tbody tr th {\n",
       "        vertical-align: top;\n",
       "    }\n",
       "\n",
       "    .dataframe thead th {\n",
       "        text-align: right;\n",
       "    }\n",
       "</style>\n",
       "<table border=\"1\" class=\"dataframe\">\n",
       "  <thead>\n",
       "    <tr style=\"text-align: right;\">\n",
       "      <th></th>\n",
       "      <th>index</th>\n",
       "      <th>Order ID</th>\n",
       "      <th>Cust ID</th>\n",
       "      <th>Gender</th>\n",
       "      <th>Age</th>\n",
       "      <th>Age group</th>\n",
       "      <th>Date</th>\n",
       "      <th>Status</th>\n",
       "      <th>index.1</th>\n",
       "      <th>Order ID.1</th>\n",
       "      <th>...</th>\n",
       "      <th>Cust ID.1</th>\n",
       "      <th>Gender.1</th>\n",
       "      <th>amount</th>\n",
       "      <th>index.3</th>\n",
       "      <th>Order ID.3</th>\n",
       "      <th>Cust ID.2</th>\n",
       "      <th>Gender.2</th>\n",
       "      <th>index.4</th>\n",
       "      <th>month_of_date</th>\n",
       "      <th>year</th>\n",
       "    </tr>\n",
       "  </thead>\n",
       "  <tbody>\n",
       "    <tr>\n",
       "      <th>0</th>\n",
       "      <td>1</td>\n",
       "      <td>171-1029312-3038738</td>\n",
       "      <td>1029312</td>\n",
       "      <td>women</td>\n",
       "      <td>44</td>\n",
       "      <td>Adult</td>\n",
       "      <td>2022-12-04</td>\n",
       "      <td>Delivered</td>\n",
       "      <td>Myntra</td>\n",
       "      <td>JNE1233-BLUE-KR-031-XXL</td>\n",
       "      <td>...</td>\n",
       "      <td>1</td>\n",
       "      <td>INR</td>\n",
       "      <td>376</td>\n",
       "      <td>MOHALI</td>\n",
       "      <td>PUNJAB</td>\n",
       "      <td>140301</td>\n",
       "      <td>IN</td>\n",
       "      <td>False</td>\n",
       "      <td>12</td>\n",
       "      <td>2022</td>\n",
       "    </tr>\n",
       "    <tr>\n",
       "      <th>1</th>\n",
       "      <td>2</td>\n",
       "      <td>405-2183842-2225946</td>\n",
       "      <td>2183842</td>\n",
       "      <td>women</td>\n",
       "      <td>29</td>\n",
       "      <td>Adult</td>\n",
       "      <td>2022-12-04</td>\n",
       "      <td>Delivered</td>\n",
       "      <td>Ajio</td>\n",
       "      <td>SET414-KR-NP-L</td>\n",
       "      <td>...</td>\n",
       "      <td>1</td>\n",
       "      <td>INR</td>\n",
       "      <td>1449</td>\n",
       "      <td>GURUGRAM</td>\n",
       "      <td>HARYANA</td>\n",
       "      <td>122002</td>\n",
       "      <td>IN</td>\n",
       "      <td>False</td>\n",
       "      <td>12</td>\n",
       "      <td>2022</td>\n",
       "    </tr>\n",
       "    <tr>\n",
       "      <th>2</th>\n",
       "      <td>3</td>\n",
       "      <td>171-1641533-8921966</td>\n",
       "      <td>1641533</td>\n",
       "      <td>women</td>\n",
       "      <td>67</td>\n",
       "      <td>senior</td>\n",
       "      <td>2022-12-04</td>\n",
       "      <td>Delivered</td>\n",
       "      <td>Myntra</td>\n",
       "      <td>SET261-KR-PP-S</td>\n",
       "      <td>...</td>\n",
       "      <td>1</td>\n",
       "      <td>INR</td>\n",
       "      <td>453</td>\n",
       "      <td>KOLKATA</td>\n",
       "      <td>WEST BENGAL</td>\n",
       "      <td>700029</td>\n",
       "      <td>IN</td>\n",
       "      <td>False</td>\n",
       "      <td>12</td>\n",
       "      <td>2022</td>\n",
       "    </tr>\n",
       "    <tr>\n",
       "      <th>3</th>\n",
       "      <td>4</td>\n",
       "      <td>404-7490807-6300351</td>\n",
       "      <td>7490807</td>\n",
       "      <td>women</td>\n",
       "      <td>20</td>\n",
       "      <td>Adult</td>\n",
       "      <td>2022-12-04</td>\n",
       "      <td>Delivered</td>\n",
       "      <td>Amazon</td>\n",
       "      <td>SET110-KR-PP-M</td>\n",
       "      <td>...</td>\n",
       "      <td>1</td>\n",
       "      <td>INR</td>\n",
       "      <td>729</td>\n",
       "      <td>THANJAVUR</td>\n",
       "      <td>TAMIL NADU</td>\n",
       "      <td>613007</td>\n",
       "      <td>IN</td>\n",
       "      <td>False</td>\n",
       "      <td>12</td>\n",
       "      <td>2022</td>\n",
       "    </tr>\n",
       "    <tr>\n",
       "      <th>4</th>\n",
       "      <td>5</td>\n",
       "      <td>403-9293516-4577154</td>\n",
       "      <td>9293516</td>\n",
       "      <td>women</td>\n",
       "      <td>62</td>\n",
       "      <td>senior</td>\n",
       "      <td>2022-12-04</td>\n",
       "      <td>Delivered</td>\n",
       "      <td>Myntra</td>\n",
       "      <td>JNE2294-KR-A-XXL</td>\n",
       "      <td>...</td>\n",
       "      <td>1</td>\n",
       "      <td>INR</td>\n",
       "      <td>544</td>\n",
       "      <td>GURUGRAM</td>\n",
       "      <td>HARYANA</td>\n",
       "      <td>122001</td>\n",
       "      <td>IN</td>\n",
       "      <td>False</td>\n",
       "      <td>12</td>\n",
       "      <td>2022</td>\n",
       "    </tr>\n",
       "    <tr>\n",
       "      <th>...</th>\n",
       "      <td>...</td>\n",
       "      <td>...</td>\n",
       "      <td>...</td>\n",
       "      <td>...</td>\n",
       "      <td>...</td>\n",
       "      <td>...</td>\n",
       "      <td>...</td>\n",
       "      <td>...</td>\n",
       "      <td>...</td>\n",
       "      <td>...</td>\n",
       "      <td>...</td>\n",
       "      <td>...</td>\n",
       "      <td>...</td>\n",
       "      <td>...</td>\n",
       "      <td>...</td>\n",
       "      <td>...</td>\n",
       "      <td>...</td>\n",
       "      <td>...</td>\n",
       "      <td>...</td>\n",
       "      <td>...</td>\n",
       "      <td>...</td>\n",
       "    </tr>\n",
       "    <tr>\n",
       "      <th>31042</th>\n",
       "      <td>31043</td>\n",
       "      <td>405-4724097-1016369</td>\n",
       "      <td>4724097</td>\n",
       "      <td>Men</td>\n",
       "      <td>60</td>\n",
       "      <td>senior</td>\n",
       "      <td>2022-01-06</td>\n",
       "      <td>Delivered</td>\n",
       "      <td>Flipkart</td>\n",
       "      <td>J0083-KR-XL</td>\n",
       "      <td>...</td>\n",
       "      <td>One</td>\n",
       "      <td>INR</td>\n",
       "      <td>565</td>\n",
       "      <td>PUNE</td>\n",
       "      <td>MAHARASHTRA</td>\n",
       "      <td>412307</td>\n",
       "      <td>IN</td>\n",
       "      <td>False</td>\n",
       "      <td>1</td>\n",
       "      <td>2022</td>\n",
       "    </tr>\n",
       "    <tr>\n",
       "      <th>31043</th>\n",
       "      <td>31044</td>\n",
       "      <td>405-4724097-1016369</td>\n",
       "      <td>4724097</td>\n",
       "      <td>Men</td>\n",
       "      <td>34</td>\n",
       "      <td>Adult</td>\n",
       "      <td>2022-01-06</td>\n",
       "      <td>Delivered</td>\n",
       "      <td>Myntra</td>\n",
       "      <td>J0010-LCD-S</td>\n",
       "      <td>...</td>\n",
       "      <td>One</td>\n",
       "      <td>INR</td>\n",
       "      <td>939</td>\n",
       "      <td>BENGALURU</td>\n",
       "      <td>KARNATAKA</td>\n",
       "      <td>560061</td>\n",
       "      <td>IN</td>\n",
       "      <td>False</td>\n",
       "      <td>1</td>\n",
       "      <td>2022</td>\n",
       "    </tr>\n",
       "    <tr>\n",
       "      <th>31044</th>\n",
       "      <td>31045</td>\n",
       "      <td>408-3572295-5992330</td>\n",
       "      <td>3572295</td>\n",
       "      <td>Men</td>\n",
       "      <td>29</td>\n",
       "      <td>Adult</td>\n",
       "      <td>2022-01-06</td>\n",
       "      <td>Delivered</td>\n",
       "      <td>Amazon</td>\n",
       "      <td>SET398-KR-PP-L</td>\n",
       "      <td>...</td>\n",
       "      <td>One</td>\n",
       "      <td>INR</td>\n",
       "      <td>1115</td>\n",
       "      <td>PITHORAGARH</td>\n",
       "      <td>UTTARAKHAND</td>\n",
       "      <td>262501</td>\n",
       "      <td>IN</td>\n",
       "      <td>False</td>\n",
       "      <td>1</td>\n",
       "      <td>2022</td>\n",
       "    </tr>\n",
       "    <tr>\n",
       "      <th>31045</th>\n",
       "      <td>31046</td>\n",
       "      <td>405-1423498-9705162</td>\n",
       "      <td>1423498</td>\n",
       "      <td>Men</td>\n",
       "      <td>46</td>\n",
       "      <td>Adult</td>\n",
       "      <td>2022-01-06</td>\n",
       "      <td>Delivered</td>\n",
       "      <td>Amazon</td>\n",
       "      <td>JNE3568-KR-M</td>\n",
       "      <td>...</td>\n",
       "      <td>One</td>\n",
       "      <td>INR</td>\n",
       "      <td>399</td>\n",
       "      <td>DHULE</td>\n",
       "      <td>MAHARASHTRA</td>\n",
       "      <td>424006</td>\n",
       "      <td>IN</td>\n",
       "      <td>False</td>\n",
       "      <td>1</td>\n",
       "      <td>2022</td>\n",
       "    </tr>\n",
       "    <tr>\n",
       "      <th>31046</th>\n",
       "      <td>31047</td>\n",
       "      <td>408-4694875-8249153</td>\n",
       "      <td>4694875</td>\n",
       "      <td>Men</td>\n",
       "      <td>36</td>\n",
       "      <td>Adult</td>\n",
       "      <td>2022-01-06</td>\n",
       "      <td>Delivered</td>\n",
       "      <td>Flipkart</td>\n",
       "      <td>J0341-DR-XXXL</td>\n",
       "      <td>...</td>\n",
       "      <td>One</td>\n",
       "      <td>INR</td>\n",
       "      <td>791</td>\n",
       "      <td>WARANGAL</td>\n",
       "      <td>TELANGANA</td>\n",
       "      <td>506001</td>\n",
       "      <td>IN</td>\n",
       "      <td>False</td>\n",
       "      <td>1</td>\n",
       "      <td>2022</td>\n",
       "    </tr>\n",
       "  </tbody>\n",
       "</table>\n",
       "<p>31047 rows × 22 columns</p>\n",
       "</div>"
      ],
      "text/plain": [
       "       index             Order ID  Cust ID Gender  Age Age group        Date  \\\n",
       "0          1  171-1029312-3038738  1029312  women   44      Adult 2022-12-04   \n",
       "1          2  405-2183842-2225946  2183842  women   29      Adult 2022-12-04   \n",
       "2          3  171-1641533-8921966  1641533  women   67     senior 2022-12-04   \n",
       "3          4  404-7490807-6300351  7490807  women   20      Adult 2022-12-04   \n",
       "4          5  403-9293516-4577154  9293516  women   62     senior 2022-12-04   \n",
       "...      ...                  ...      ...    ...  ...        ...        ...   \n",
       "31042  31043  405-4724097-1016369  4724097    Men   60     senior 2022-01-06   \n",
       "31043  31044  405-4724097-1016369  4724097    Men   34      Adult 2022-01-06   \n",
       "31044  31045  408-3572295-5992330  3572295    Men   29      Adult 2022-01-06   \n",
       "31045  31046  405-1423498-9705162  1423498    Men   46      Adult 2022-01-06   \n",
       "31046  31047  408-4694875-8249153  4694875    Men   36      Adult 2022-01-06   \n",
       "\n",
       "          Status   index.1               Order ID.1  ... Cust ID.1 Gender.1  \\\n",
       "0      Delivered    Myntra  JNE1233-BLUE-KR-031-XXL  ...         1      INR   \n",
       "1      Delivered      Ajio           SET414-KR-NP-L  ...         1      INR   \n",
       "2      Delivered    Myntra           SET261-KR-PP-S  ...         1      INR   \n",
       "3      Delivered    Amazon           SET110-KR-PP-M  ...         1      INR   \n",
       "4      Delivered    Myntra         JNE2294-KR-A-XXL  ...         1      INR   \n",
       "...          ...       ...                      ...  ...       ...      ...   \n",
       "31042  Delivered  Flipkart              J0083-KR-XL  ...       One      INR   \n",
       "31043  Delivered    Myntra              J0010-LCD-S  ...       One      INR   \n",
       "31044  Delivered    Amazon           SET398-KR-PP-L  ...       One      INR   \n",
       "31045  Delivered    Amazon             JNE3568-KR-M  ...       One      INR   \n",
       "31046  Delivered  Flipkart            J0341-DR-XXXL  ...       One      INR   \n",
       "\n",
       "      amount      index.3   Order ID.3 Cust ID.2 Gender.2  index.4  \\\n",
       "0        376       MOHALI       PUNJAB    140301       IN    False   \n",
       "1       1449     GURUGRAM      HARYANA    122002       IN    False   \n",
       "2        453      KOLKATA  WEST BENGAL    700029       IN    False   \n",
       "3        729    THANJAVUR   TAMIL NADU    613007       IN    False   \n",
       "4        544     GURUGRAM      HARYANA    122001       IN    False   \n",
       "...      ...          ...          ...       ...      ...      ...   \n",
       "31042    565         PUNE  MAHARASHTRA    412307       IN    False   \n",
       "31043    939    BENGALURU    KARNATAKA    560061       IN    False   \n",
       "31044   1115  PITHORAGARH  UTTARAKHAND    262501       IN    False   \n",
       "31045    399        DHULE  MAHARASHTRA    424006       IN    False   \n",
       "31046    791     WARANGAL    TELANGANA    506001       IN    False   \n",
       "\n",
       "      month_of_date  year  \n",
       "0                12  2022  \n",
       "1                12  2022  \n",
       "2                12  2022  \n",
       "3                12  2022  \n",
       "4                12  2022  \n",
       "...             ...   ...  \n",
       "31042             1  2022  \n",
       "31043             1  2022  \n",
       "31044             1  2022  \n",
       "31045             1  2022  \n",
       "31046             1  2022  \n",
       "\n",
       "[31047 rows x 22 columns]"
      ]
     },
     "execution_count": 10,
     "metadata": {},
     "output_type": "execute_result"
    }
   ],
   "source": [
    "df"
   ]
  },
  {
   "cell_type": "code",
   "execution_count": null,
   "id": "2892b309",
   "metadata": {},
   "outputs": [],
   "source": [
    "df.columns"
   ]
  },
  {
   "cell_type": "code",
   "execution_count": 11,
   "id": "33b37664",
   "metadata": {},
   "outputs": [],
   "source": [
    "df.drop(['Gender.1'],axis=1,inplace=True)"
   ]
  },
  {
   "cell_type": "code",
   "execution_count": null,
   "id": "ef8669b0",
   "metadata": {},
   "outputs": [],
   "source": [
    "df.columns"
   ]
  },
  {
   "cell_type": "code",
   "execution_count": 12,
   "id": "d89e3c95",
   "metadata": {},
   "outputs": [],
   "source": [
    "df.drop(['Gender.2','index.4'],axis=1,inplace=True)"
   ]
  },
  {
   "cell_type": "code",
   "execution_count": 13,
   "id": "547b069c",
   "metadata": {},
   "outputs": [],
   "source": [
    "df.rename(columns={'index.1':'Online_partner','index.2':'Items','index.3':'States'},inplace=True)"
   ]
  },
  {
   "cell_type": "code",
   "execution_count": null,
   "id": "a9a7f3e6",
   "metadata": {},
   "outputs": [],
   "source": [
    "df.columns"
   ]
  },
  {
   "cell_type": "code",
   "execution_count": null,
   "id": "24316ec9",
   "metadata": {},
   "outputs": [],
   "source": [
    "df['Order ID.2'].value_counts()"
   ]
  },
  {
   "cell_type": "code",
   "execution_count": 14,
   "id": "bb67c231",
   "metadata": {},
   "outputs": [],
   "source": [
    "df.rename(columns={'Order ID.2':'Size','States':'city','Order ID.3':'State'},inplace=True)"
   ]
  },
  {
   "cell_type": "code",
   "execution_count": null,
   "id": "de72c62f",
   "metadata": {},
   "outputs": [],
   "source": [
    "df.columns"
   ]
  },
  {
   "cell_type": "code",
   "execution_count": 15,
   "id": "00f4b3d0",
   "metadata": {},
   "outputs": [],
   "source": [
    "df.drop(['Order ID.1','Cust ID.1'],axis=1,inplace=True)"
   ]
  },
  {
   "cell_type": "code",
   "execution_count": null,
   "id": "e3db9ed3",
   "metadata": {},
   "outputs": [],
   "source": [
    "df.columns"
   ]
  },
  {
   "cell_type": "code",
   "execution_count": 16,
   "id": "a996ea9e",
   "metadata": {},
   "outputs": [],
   "source": [
    "df.rename(columns={'Cust ID.2':'Area_PinCode'},inplace=True)"
   ]
  },
  {
   "cell_type": "code",
   "execution_count": null,
   "id": "1fcc5532",
   "metadata": {},
   "outputs": [],
   "source": [
    "df.shape"
   ]
  },
  {
   "cell_type": "code",
   "execution_count": null,
   "id": "c8590f65",
   "metadata": {},
   "outputs": [],
   "source": [
    "sns.countplot(x='Gender',data=df)"
   ]
  },
  {
   "cell_type": "code",
   "execution_count": null,
   "id": "6edd2bff",
   "metadata": {},
   "outputs": [],
   "source": [
    "ax=sns.countplot(x='Gender',data=df)\n",
    "for bars in ax.containers:\n",
    "    ax.bar_label(bars)"
   ]
  },
  {
   "cell_type": "code",
   "execution_count": null,
   "id": "191d648c",
   "metadata": {},
   "outputs": [],
   "source": [
    "df.groupby(['Gender'],as_index=False)['amount'].sum().sort_values(by='amount', ascending=False)"
   ]
  },
  {
   "cell_type": "code",
   "execution_count": null,
   "id": "817ba5b6",
   "metadata": {},
   "outputs": [],
   "source": [
    "a=df.groupby(['Gender'],as_index=False)['amount'].sum().sort_values(by='amount', ascending=False)\n",
    "sns.barplot(x='Gender',y='amount',data=a)"
   ]
  },
  {
   "cell_type": "code",
   "execution_count": null,
   "id": "48c3f63a",
   "metadata": {},
   "outputs": [],
   "source": [
    "df.columns"
   ]
  },
  {
   "cell_type": "code",
   "execution_count": null,
   "id": "610eb089",
   "metadata": {},
   "outputs": [],
   "source": [
    "sns.countplot(data=df,x='Age group ',hue='Gender')"
   ]
  },
  {
   "cell_type": "code",
   "execution_count": null,
   "id": "0b9a8a40",
   "metadata": {},
   "outputs": [],
   "source": [
    "b=sns.countplot(data=df,x='Age group ',hue='Gender')\n",
    "for bars in b.containers:\n",
    "    b.bar_label(bars)"
   ]
  },
  {
   "cell_type": "code",
   "execution_count": null,
   "id": "57a95808",
   "metadata": {},
   "outputs": [],
   "source": [
    "a=df.groupby(['Age group '],as_index=False)['amount'].sum().sort_values(by='amount', ascending=False)\n",
    "sns.barplot(x='Age group ',y='amount',data=a)"
   ]
  },
  {
   "cell_type": "code",
   "execution_count": null,
   "id": "b3cba822",
   "metadata": {},
   "outputs": [],
   "source": [
    "ad=df.groupby(['month_of_date'],as_index=False)['amount'].sum().sort_values(by='amount', ascending=False)\n",
    "sns.barplot(x='month_of_date',y='amount',data=ad)\n"
   ]
  },
  {
   "cell_type": "code",
   "execution_count": null,
   "id": "59593f6b",
   "metadata": {},
   "outputs": [],
   "source": [
    "df['year']"
   ]
  },
  {
   "cell_type": "code",
   "execution_count": 112,
   "id": "f857d1ee",
   "metadata": {},
   "outputs": [],
   "source": [
    "ae=df.groupby(['State'],as_index=False)['amount'].sum().sort_values(by='amount',ascending=False)"
   ]
  },
  {
   "cell_type": "code",
   "execution_count": 114,
   "id": "b373df51",
   "metadata": {},
   "outputs": [
    {
     "data": {
      "text/plain": [
       "<AxesSubplot:xlabel='State', ylabel='amount'>"
      ]
     },
     "execution_count": 114,
     "metadata": {},
     "output_type": "execute_result"
    },
    {
     "data": {
      "image/png": "[encoded data removed]",
      "text/plain": [
       "<Figure size 640x480 with 1 Axes>"
      ]
     },
     "metadata": {},
     "output_type": "display_data"
    }
   ],
   "source": [
    "sns.barplot(x='State',y='amount',data=ae)\n"
   ]
  },
  {
   "cell_type": "code",
   "execution_count": 116,
   "id": "158a6937",
   "metadata": {},
   "outputs": [
    {
     "data": {
      "text/plain": [
       "'C:\\\\Users\\\\hp'"
      ]
     },
     "execution_count": 116,
     "metadata": {},
     "output_type": "execute_result"
    }
   ],
   "source": [
    "os.getcwd()"
   ]
  },
  {
   "cell_type": "code",
   "execution_count": 17,
   "id": "cc6e7fde",
   "metadata": {},
   "outputs": [],
   "source": [
    "ae=df.groupby(['State'],as_index=False)['amount'].sum().sort_values(by='amount',ascending=False).head(10)"
   ]
  },
  {
   "cell_type": "code",
   "execution_count": 18,
   "id": "f207c185",
   "metadata": {},
   "outputs": [
    {
     "data": {
      "text/plain": [
       "<AxesSubplot:xlabel='State', ylabel='amount'>"
      ]
     },
     "execution_count": 18,
     "metadata": {},
     "output_type": "execute_result"
    },
    {
     "data": {
      "image/png": "[encoded data removed]",
      "text/plain": [
       "<Figure size 640x480 with 1 Axes>"
      ]
     },
     "metadata": {},
     "output_type": "display_data"
    }
   ],
   "source": [
    "sns.barplot(x='State',y='amount',data=ae)"
   ]
  },
  {
   "cell_type": "code",
   "execution_count": null,
   "id": "910fa4ef",
   "metadata": {},
   "outputs": [],
   "source": []
  }
 ],
 "metadata": {
  "kernelspec": {
   "display_name": "Python 3 (ipykernel)",
   "language": "python",
   "name": "python3"
  },
  "language_info": {
   "codemirror_mode": {
    "name": "ipython",
    "version": 3
   },
   "file_extension": ".py",
   "mimetype": "text/x-python",
   "name": "python",
   "nbconvert_exporter": "python",
   "pygments_lexer": "ipython3",
   "version": "3.9.13"
  }
 },
 "nbformat": 4,
 "nbformat_minor": 5
}
