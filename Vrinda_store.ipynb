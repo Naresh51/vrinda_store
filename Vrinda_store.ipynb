{
 "cells": [
  {
   "cell_type": "code",
   "execution_count": 115,
   "id": "c6b7e678",
   "metadata": {},
   "outputs": [],
   "source": [
    "import numpy as np\n",
    "import pandas as pd\n",
    "import matplotlib.pyplot as plt                             # data visulizing \n",
    "import seaborn as sns \n",
    "import warnings\n",
    "import os "
   ]
  },
  {
   "cell_type": "code",
   "execution_count": null,
   "id": "aa06fa3a",
   "metadata": {},
   "outputs": [],
   "source": [
    "df = pd.read_excel(r'C:\\Users\\hp\\Downloads\\Vrinda Store Data Analysis.xlsx')  # import data and use \"r\" to avoid encoding error ,use unicode escape"
   ]
  },
  {
   "cell_type": "code",
   "execution_count": null,
   "id": "250a34cb",
   "metadata": {},
   "outputs": [],
   "source": [
    "df.shape"
   ]
  },
  {
   "cell_type": "code",
   "execution_count": null,
   "id": "c35ec277",
   "metadata": {},
   "outputs": [],
   "source": [
    "df.head()"
   ]
  },
  {
   "cell_type": "code",
   "execution_count": null,
   "id": "962bb91f",
   "metadata": {},
   "outputs": [],
   "source": [
    "df.info()"
   ]
  },
  {
   "cell_type": "code",
   "execution_count": null,
   "id": "eb6f9bd3",
   "metadata": {},
   "outputs": [],
   "source": [
    "df.columns"
   ]
  },
  {
   "cell_type": "code",
   "execution_count": null,
   "id": "c4c3008d",
   "metadata": {},
   "outputs": [],
   "source": [
    "df.isnull()"
   ]
  },
  {
   "cell_type": "code",
   "execution_count": null,
   "id": "93cad19b",
   "metadata": {},
   "outputs": [],
   "source": [
    "df.isnull().sum()"
   ]
  },
  {
   "cell_type": "code",
   "execution_count": null,
   "id": "6ac2e8f0",
   "metadata": {},
   "outputs": [],
   "source": [
    "df.columns"
   ]
  },
  {
   "cell_type": "code",
   "execution_count": null,
   "id": "a03872fc",
   "metadata": {},
   "outputs": [],
   "source": [
    "df['Order ID'].value_counts()"
   ]
  },
  {
   "cell_type": "code",
   "execution_count": null,
   "id": "a716a381",
   "metadata": {},
   "outputs": [],
   "source": [
    "df['Gender'].value_counts()"
   ]
  },
  {
   "cell_type": "code",
   "execution_count": null,
   "id": "24a632ba",
   "metadata": {},
   "outputs": [],
   "source": [
    "df.replace(to_replace='men',value='Men', inplace=True)"
   ]
  },
  {
   "cell_type": "code",
   "execution_count": null,
   "id": "15abdfdd",
   "metadata": {},
   "outputs": [],
   "source": [
    "df['Gender'].value_counts()"
   ]
  },
  {
   "cell_type": "code",
   "execution_count": null,
   "id": "bed2dc9b",
   "metadata": {},
   "outputs": [],
   "source": [
    "df['Age group '].value_counts()"
   ]
  },
  {
   "cell_type": "code",
   "execution_count": null,
   "id": "46ceb42e",
   "metadata": {},
   "outputs": [],
   "source": [
    "df['Date']"
   ]
  },
  {
   "cell_type": "code",
   "execution_count": null,
   "id": "2052d1d7",
   "metadata": {},
   "outputs": [],
   "source": [
    "df['month_of_date']=df['Date'].dt.month"
   ]
  },
  {
   "cell_type": "code",
   "execution_count": null,
   "id": "df5cc64d",
   "metadata": {},
   "outputs": [],
   "source": [
    "df['year']=df['Date'].dt.year"
   ]
  },
  {
   "cell_type": "code",
   "execution_count": null,
   "id": "f10211b9",
   "metadata": {},
   "outputs": [],
   "source": [
    "df"
   ]
  },
  {
   "cell_type": "code",
   "execution_count": null,
   "id": "de8a883c",
   "metadata": {},
   "outputs": [],
   "source": [
    "df.columns"
   ]
  },
  {
   "cell_type": "code",
   "execution_count": null,
   "id": "a4ca2325",
   "metadata": {},
   "outputs": [],
   "source": [
    "df.drop(['Gender.1'],axis=1,inplace=True)"
   ]
  },
  {
   "cell_type": "code",
   "execution_count": null,
   "id": "4a5fd52b",
   "metadata": {},
   "outputs": [],
   "source": [
    "df.columns"
   ]
  },
  {
   "cell_type": "code",
   "execution_count": null,
   "id": "3a72af33",
   "metadata": {},
   "outputs": [],
   "source": [
    "df.drop(['Gender.2','index.4'],axis=1,inplace=True)"
   ]
  },
  {
   "cell_type": "code",
   "execution_count": null,
   "id": "6b1c6c7e",
   "metadata": {},
   "outputs": [],
   "source": [
    "df.rename(columns={'index.1':'Online_partner','index.2':'Items','index.3':'States'},inplace=True)"
   ]
  },
  {
   "cell_type": "code",
   "execution_count": null,
   "id": "00485734",
   "metadata": {},
   "outputs": [],
   "source": [
    "df.columns"
   ]
  },
  {
   "cell_type": "code",
   "execution_count": null,
   "id": "756f5abb",
   "metadata": {},
   "outputs": [],
   "source": [
    "df['Order ID.2'].value_counts()"
   ]
  },
  {
   "cell_type": "code",
   "execution_count": null,
   "id": "40b2e0ec",
   "metadata": {},
   "outputs": [],
   "source": [
    "df.rename(columns={'Order ID.2':'Size','States':'city','Order ID.3':'State'},inplace=True)"
   ]
  },
  {
   "cell_type": "code",
   "execution_count": null,
   "id": "24b1bf27",
   "metadata": {},
   "outputs": [],
   "source": [
    "df.columns"
   ]
  },
  {
   "cell_type": "code",
   "execution_count": null,
   "id": "b292b405",
   "metadata": {},
   "outputs": [],
   "source": [
    "df.drop(['Order ID.1','Cust ID.1'],axis=1,inplace=True)"
   ]
  },
  {
   "cell_type": "code",
   "execution_count": null,
   "id": "86634f59",
   "metadata": {},
   "outputs": [],
   "source": [
    "df.columns"
   ]
  },
  {
   "cell_type": "code",
   "execution_count": null,
   "id": "738ba6cf",
   "metadata": {},
   "outputs": [],
   "source": [
    "df.rename(columns={'Cust ID.2':'Area_PinCode'},inplace=True)"
   ]
  },
  {
   "cell_type": "code",
   "execution_count": null,
   "id": "f1da69b2",
   "metadata": {},
   "outputs": [],
   "source": [
    "df.shape"
   ]
  },
  {
   "cell_type": "code",
   "execution_count": null,
   "id": "b1a48a71",
   "metadata": {},
   "outputs": [],
   "source": [
    "sns.countplot(x='Gender',data=df)"
   ]
  },
  {
   "cell_type": "code",
   "execution_count": null,
   "id": "f5d7222f",
   "metadata": {},
   "outputs": [],
   "source": [
    "ax=sns.countplot(x='Gender',data=df)\n",
    "for bars in ax.containers:\n",
    "    ax.bar_label(bars)"
   ]
  },
  {
   "cell_type": "code",
   "execution_count": null,
   "id": "60946c96",
   "metadata": {},
   "outputs": [],
   "source": [
    "df.groupby(['Gender'],as_index=False)['amount'].sum().sort_values(by='amount', ascending=False)"
   ]
  },
  {
   "cell_type": "code",
   "execution_count": null,
   "id": "69f9f7bc",
   "metadata": {},
   "outputs": [],
   "source": [
    "a=df.groupby(['Gender'],as_index=False)['amount'].sum().sort_values(by='amount', ascending=False)\n",
    "sns.barplot(x='Gender',y='amount',data=a)"
   ]
  },
  {
   "cell_type": "code",
   "execution_count": null,
   "id": "0f0257f1",
   "metadata": {},
   "outputs": [],
   "source": [
    "df.columns"
   ]
  },
  {
   "cell_type": "code",
   "execution_count": null,
   "id": "0b33f964",
   "metadata": {},
   "outputs": [],
   "source": [
    "sns.countplot(data=df,x='Age group ',hue='Gender')"
   ]
  },
  {
   "cell_type": "code",
   "execution_count": null,
   "id": "1af28e2f",
   "metadata": {},
   "outputs": [],
   "source": [
    "b=sns.countplot(data=df,x='Age group ',hue='Gender')\n",
    "for bars in b.containers:\n",
    "    b.bar_label(bars)"
   ]
  },
  {
   "cell_type": "code",
   "execution_count": null,
   "id": "cdb0b9ea",
   "metadata": {},
   "outputs": [],
   "source": [
    "a=df.groupby(['Age group '],as_index=False)['amount'].sum().sort_values(by='amount', ascending=False)\n",
    "sns.barplot(x='Age group ',y='amount',data=a)"
   ]
  },
  {
   "cell_type": "code",
   "execution_count": null,
   "id": "796ce4c3",
   "metadata": {},
   "outputs": [],
   "source": [
    "ad=df.groupby(['month_of_date'],as_index=False)['amount'].sum().sort_values(by='amount', ascending=False)\n",
    "sns.barplot(x='month_of_date',y='amount',data=ad)\n"
   ]
  },
  {
   "cell_type": "code",
   "execution_count": null,
   "id": "7313cb35",
   "metadata": {},
   "outputs": [],
   "source": [
    "df['year']"
   ]
  },
  {
   "cell_type": "code",
   "execution_count": 112,
   "id": "2d9a35e4",
   "metadata": {},
   "outputs": [],
   "source": [
    "ae=df.groupby(['State'],as_index=False)['amount'].sum().sort_values(by='amount',ascending=False)"
   ]
  },
  {
   "cell_type": "code",
   "execution_count": 114,
   "id": "661455f7",
   "metadata": {},
   "outputs": [
    {
     "data": {
      "text/plain": [
       "<AxesSubplot:xlabel='State', ylabel='amount'>"
      ]
     },
     "execution_count": 114,
     "metadata": {},
     "output_type": "execute_result"
    },
    {
     "data": {
      "image/png": "[encoded data removed]",
      "text/plain": [
       "<Figure size 640x480 with 1 Axes>"
      ]
     },
     "metadata": {},
     "output_type": "display_data"
    }
   ],
   "source": [
    "sns.barplot(x='State',y='amount',data=ae)\n"
   ]
  },
  {
   "cell_type": "code",
   "execution_count": null,
   "id": "7673ff50",
   "metadata": {},
   "outputs": [],
   "source": [
    "os.getcwd()"
   ]
  }
 ],
 "metadata": {
  "kernelspec": {
   "display_name": "Python 3 (ipykernel)",
   "language": "python",
   "name": "python3"
  },
  "language_info": {
   "codemirror_mode": {
    "name": "ipython",
    "version": 3
   },
   "file_extension": ".py",
   "mimetype": "text/x-python",
   "name": "python",
   "nbconvert_exporter": "python",
   "pygments_lexer": "ipython3",
   "version": "3.9.13"
  }
 },
 "nbformat": 4,
 "nbformat_minor": 5
}
